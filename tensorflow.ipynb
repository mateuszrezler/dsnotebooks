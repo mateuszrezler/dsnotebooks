{
 "cells": [
  {
   "cell_type": "code",
   "execution_count": 1,
   "metadata": {},
   "outputs": [],
   "source": [
    "import matplotlib.pyplot as plt\n",
    "import numpy as np\n",
    "import tensorflow as tf"
   ]
  },
  {
   "cell_type": "code",
   "execution_count": 2,
   "metadata": {},
   "outputs": [],
   "source": [
    "# paragraph\n",
    "def p(*objects, last=True):\n",
    "    print(*objects, sep='\\n'*2, end='\\n'*2**(not last))"
   ]
  },
  {
   "cell_type": "markdown",
   "metadata": {},
   "source": [
    "#### Tensors with the same constant values"
   ]
  },
  {
   "cell_type": "code",
   "execution_count": 3,
   "metadata": {},
   "outputs": [
    {
     "name": "stdout",
     "output_type": "stream",
     "text": [
      "Vector (rank-1 tensor)\n",
      "\n",
      "tf.Tensor([0. 0.], shape=(2,), dtype=float32)\n",
      "\n",
      "Matrix (rank-2 tensor)\n",
      "\n",
      "tf.Tensor(\n",
      "[[1. 1. 1. 1. 1.]\n",
      " [1. 1. 1. 1. 1.]\n",
      " [1. 1. 1. 1. 1.]], shape=(3, 5), dtype=float32)\n",
      "\n",
      "Rank-3 tensor\n",
      "\n",
      "tf.Tensor(\n",
      "[[[2. 2. 2. 2. 2.]\n",
      "  [2. 2. 2. 2. 2.]\n",
      "  [2. 2. 2. 2. 2.]]\n",
      "\n",
      " [[2. 2. 2. 2. 2.]\n",
      "  [2. 2. 2. 2. 2.]\n",
      "  [2. 2. 2. 2. 2.]]], shape=(2, 3, 5), dtype=float32)\n"
     ]
    }
   ],
   "source": [
    "ze2 = tf.zeros(2)\n",
    "on3x5 = tf.ones((3, 5))\n",
    "tw2x3x5 = tf.fill((2, 3, 5), value=2.)\n",
    "p('Vector (rank-1 tensor)', ze2,\n",
    "  'Matrix (rank-2 tensor)', on3x5,\n",
    "  'Rank-3 tensor', tw2x3x5)"
   ]
  },
  {
   "cell_type": "markdown",
   "metadata": {},
   "source": [
    "#### Tensors with random values"
   ]
  },
  {
   "cell_type": "code",
   "execution_count": 4,
   "metadata": {},
   "outputs": [
    {
     "name": "stdout",
     "output_type": "stream",
     "text": [
      "Matrix with random uniform values\n",
      "\n",
      "tf.Tensor(\n",
      "[[0.3815602  0.3987292  0.30515325]\n",
      " [0.5400288  0.12165797 0.8039049 ]], shape=(2, 3), dtype=float32)\n",
      "\n",
      "Matrix with random normal values\n",
      "\n",
      "tf.Tensor(\n",
      "[[ 0.01921828 -0.10978439]\n",
      " [ 1.5463562   0.8574334 ]\n",
      " [ 0.6604012  -0.53602844]\n",
      " [-0.11554052 -0.4797787 ]\n",
      " [-0.5613884   0.18067175]], shape=(5, 2), dtype=float32)\n",
      "\n",
      "Matrix with truncated random normal values\n",
      "\n",
      "tf.Tensor(\n",
      "[[-1.5131977   0.163513    0.16822036 -0.04753003 -1.8959026 ]\n",
      " [-0.71104014  0.161981   -0.34808692  0.15635802  0.40065533]\n",
      " [ 0.19990592 -0.06471832  1.7317024   0.38678277 -0.24207918]], shape=(3, 5), dtype=float32)\n"
     ]
    }
   ],
   "source": [
    "ru2x3 = tf.random.uniform((2, 3), minval=0, maxval=1)\n",
    "rn2x3 = tf.random.normal((5, 2), mean=0, stddev=1)\n",
    "rtn2x3 = tf.random.truncated_normal((3, 5), mean=0, stddev=1)\n",
    "p('Matrix with random uniform values', ru2x3,\n",
    "  'Matrix with random normal values', rn2x3,\n",
    "  'Matrix with truncated random normal values', rtn2x3)"
   ]
  },
  {
   "cell_type": "markdown",
   "metadata": {},
   "source": [
    "#### Tensor addition and elementwise multiplication"
   ]
  },
  {
   "cell_type": "code",
   "execution_count": 5,
   "metadata": {},
   "outputs": [
    {
     "name": "stdout",
     "output_type": "stream",
     "text": [
      "Input matrices\n",
      "\n",
      "tf.Tensor(\n",
      "[[2. 2. 2.]\n",
      " [2. 2. 2.]], shape=(2, 3), dtype=float32)\n",
      "\n",
      "tf.Tensor(\n",
      "[[3. 3. 3.]\n",
      " [3. 3. 3.]], shape=(2, 3), dtype=float32)\n",
      "\n",
      "Addition\n",
      "\n",
      "tf.Tensor(\n",
      "[[5. 5. 5.]\n",
      " [5. 5. 5.]], shape=(2, 3), dtype=float32)\n",
      "\n",
      "Elementwise multiplication\n",
      "\n",
      "tf.Tensor(\n",
      "[[6. 6. 6.]\n",
      " [6. 6. 6.]], shape=(2, 3), dtype=float32)\n",
      "\n",
      "tf.Tensor(\n",
      "[[10. 10. 10.]\n",
      " [10. 10. 10.]], shape=(2, 3), dtype=float32)\n"
     ]
    }
   ],
   "source": [
    "tw2x3 = tf.fill((2, 3), value=2.)\n",
    "th2x3 = tf.fill((2, 3), value=3.)\n",
    "p('Input matrices', tw2x3, th2x3,\n",
    "  'Addition', tw2x3 + th2x3,\n",
    "  'Elementwise multiplication', tw2x3 * th2x3, 5 * tw2x3)"
   ]
  },
  {
   "cell_type": "markdown",
   "metadata": {},
   "source": [
    "#### Diagonal matrices"
   ]
  },
  {
   "cell_type": "code",
   "execution_count": 6,
   "metadata": {},
   "outputs": [
    {
     "name": "stdout",
     "output_type": "stream",
     "text": [
      "Identity matrix\n",
      "\n",
      "tf.Tensor(\n",
      "[[1. 0.]\n",
      " [0. 1.]], shape=(2, 2), dtype=float32)\n",
      "\n",
      "Diagonal matrix\n",
      "\n",
      "tf.Tensor(\n",
      "[[3. 0. 0. 0. 0.]\n",
      " [0. 3. 0. 0. 0.]\n",
      " [0. 0. 3. 0. 0.]\n",
      " [0. 0. 0. 3. 0.]\n",
      " [0. 0. 0. 0. 3.]], shape=(5, 5), dtype=float32)\n"
     ]
    }
   ],
   "source": [
    "eye2 = tf.eye(2)\n",
    "diag_th5 = tf.linalg.diag([3.]*5)\n",
    "p('Identity matrix', eye2,\n",
    "  'Diagonal matrix', diag_th5)"
   ]
  },
  {
   "cell_type": "markdown",
   "metadata": {},
   "source": [
    "#### Matrix transpose"
   ]
  },
  {
   "cell_type": "code",
   "execution_count": 7,
   "metadata": {},
   "outputs": [
    {
     "name": "stdout",
     "output_type": "stream",
     "text": [
      "Input matrix\n",
      "\n",
      "tf.Tensor(\n",
      "[[2. 2. 2.]\n",
      " [2. 2. 2.]], shape=(2, 3), dtype=float32)\n",
      "\n",
      "Transpose\n",
      "\n",
      "tf.Tensor(\n",
      "[[2. 2.]\n",
      " [2. 2.]\n",
      " [2. 2.]], shape=(3, 2), dtype=float32)\n"
     ]
    }
   ],
   "source": [
    "tw3x2 = tf.linalg.matrix_transpose(tw2x3)\n",
    "p('Input matrix', tw2x3,\n",
    "  'Transpose', tw3x2)"
   ]
  },
  {
   "cell_type": "markdown",
   "metadata": {},
   "source": [
    "#### Matrix multiplication"
   ]
  },
  {
   "cell_type": "code",
   "execution_count": 8,
   "metadata": {},
   "outputs": [
    {
     "name": "stdout",
     "output_type": "stream",
     "text": [
      "Input matrices\n",
      "\n",
      "tf.Tensor(\n",
      "[[2. 2. 2.]\n",
      " [2. 2. 2.]], shape=(2, 3), dtype=float32)\n",
      "\n",
      "tf.Tensor(\n",
      "[[1. 1. 1. 1. 1.]\n",
      " [1. 1. 1. 1. 1.]\n",
      " [1. 1. 1. 1. 1.]], shape=(3, 5), dtype=float32)\n",
      "\n",
      "Multiplication\n",
      "\n",
      "tf.Tensor(\n",
      "[[6. 6. 6. 6. 6.]\n",
      " [6. 6. 6. 6. 6.]], shape=(2, 5), dtype=float32)\n"
     ]
    }
   ],
   "source": [
    "si2x5 = tf.linalg.matmul(tw2x3, on3x5)\n",
    "p('Input matrices', tw2x3, on3x5,\n",
    "  'Multiplication', si2x5)"
   ]
  },
  {
   "cell_type": "markdown",
   "metadata": {},
   "source": [
    "#### Tensor reshaping"
   ]
  },
  {
   "cell_type": "code",
   "execution_count": 9,
   "metadata": {
    "scrolled": false
   },
   "outputs": [
    {
     "name": "stdout",
     "output_type": "stream",
     "text": [
      "Input matrix\n",
      "\n",
      "tf.Tensor(\n",
      "[[3. 3. 3.]\n",
      " [3. 3. 3.]], shape=(2, 3), dtype=float32)\n",
      "\n",
      "Reshaped matrix\n",
      "\n",
      "tf.Tensor(\n",
      "[[[3.]\n",
      "  [3.]]\n",
      "\n",
      " [[3.]\n",
      "  [3.]]\n",
      "\n",
      " [[3.]\n",
      "  [3.]]], shape=(3, 2, 1), dtype=float32)\n",
      "\n",
      "Matrix with the first dim expanded\n",
      "\n",
      "tf.Tensor(\n",
      "[[[3. 3. 3.]\n",
      "  [3. 3. 3.]]], shape=(1, 2, 3), dtype=float32)\n",
      "\n",
      "Squeezed matrix\n",
      "\n",
      "tf.Tensor(\n",
      "[[3. 3. 3.]\n",
      " [3. 3. 3.]], shape=(2, 3), dtype=float32)\n"
     ]
    }
   ],
   "source": [
    "th1x2x3 = tf.expand_dims(th2x3, axis=0)\n",
    "p('Input matrix', th2x3,\n",
    "  'Reshaped matrix', tf.reshape(th2x3, (3, 2, 1)),\n",
    "  'Matrix with the first dim expanded', th1x2x3, last=False)\n",
    "th2x3 = tf.squeeze(th1x2x3)\n",
    "p('Squeezed matrix', th2x3)"
   ]
  },
  {
   "cell_type": "markdown",
   "metadata": {},
   "source": [
    "#### Broadcasting"
   ]
  },
  {
   "cell_type": "code",
   "execution_count": 10,
   "metadata": {
    "scrolled": true
   },
   "outputs": [
    {
     "name": "stdout",
     "output_type": "stream",
     "text": [
      "Input matrices\n",
      "\n",
      "tf.Tensor([2. 2. 2. 2. 2.], shape=(5,), dtype=float32)\n",
      "\n",
      "tf.Tensor(\n",
      "[[1. 1. 1. 1. 1.]\n",
      " [1. 1. 1. 1. 1.]\n",
      " [1. 1. 1. 1. 1.]], shape=(3, 5), dtype=float32)\n",
      "\n",
      "Addition\n",
      "\n",
      "tf.Tensor(\n",
      "[[3. 3. 3. 3. 3.]\n",
      " [3. 3. 3. 3. 3.]\n",
      " [3. 3. 3. 3. 3.]], shape=(3, 5), dtype=float32)\n"
     ]
    }
   ],
   "source": [
    "tw5 = tf.fill((5,), 2.)\n",
    "th3x5 = tw5 + on3x5\n",
    "p('Input matrices', tw5, on3x5,\n",
    "  'Addition', th3x5)"
   ]
  },
  {
   "cell_type": "markdown",
   "metadata": {},
   "source": [
    "#### Toy datasets"
   ]
  },
  {
   "cell_type": "markdown",
   "metadata": {},
   "source": [
    "Regression\n",
    "$$y = ax + b + N(0, 1)$$"
   ]
  },
  {
   "cell_type": "code",
   "execution_count": 11,
   "metadata": {},
   "outputs": [],
   "source": [
    "def make_toy(a, b, n, noise_factor=.1):\n",
    "    x = np.random.rand(n, 1)\n",
    "    noise = np.random.normal(scale=noise_factor, size=(n, 1))\n",
    "    y = np.reshape(a * x + b + noise, (-1))\n",
    "    return x, y"
   ]
  },
  {
   "cell_type": "code",
   "execution_count": 12,
   "metadata": {},
   "outputs": [
    {
     "data": {
      "image/png": "[encoded data removed]",
      "text/plain": [
       "<Figure size 432x288 with 1 Axes>"
      ]
     },
     "metadata": {
      "needs_background": "light"
     },
     "output_type": "display_data"
    }
   ],
   "source": [
    "x, y = make_toy(-1.5, 2, 100, .2)\n",
    "plt.scatter(x, y, c='g')\n",
    "plt.show()"
   ]
  }
 ],
 "metadata": {
  "kernelspec": {
   "display_name": "Python 3",
   "language": "python",
   "name": "python3"
  },
  "language_info": {
   "codemirror_mode": {
    "name": "ipython",
    "version": 3
   },
   "file_extension": ".py",
   "mimetype": "text/x-python",
   "name": "python",
   "nbconvert_exporter": "python",
   "pygments_lexer": "ipython3",
   "version": "3.7.4"
  }
 },
 "nbformat": 4,
 "nbformat_minor": 4
}
