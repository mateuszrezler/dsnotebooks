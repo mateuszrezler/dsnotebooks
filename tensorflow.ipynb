{
 "cells": [
  {
   "cell_type": "code",
   "execution_count": 1,
   "metadata": {},
   "outputs": [],
   "source": [
    "import tensorflow as tf"
   ]
  },
  {
   "cell_type": "code",
   "execution_count": 2,
   "metadata": {},
   "outputs": [],
   "source": [
    "# paragraph\n",
    "def p(*objects, last=True):\n",
    "    print(*objects, sep='\\n'*2, end='\\n'*2**(not last))"
   ]
  },
  {
   "cell_type": "markdown",
   "metadata": {},
   "source": [
    "#### Tensors with the same constant values"
   ]
  },
  {
   "cell_type": "code",
   "execution_count": 3,
   "metadata": {},
   "outputs": [
    {
     "name": "stdout",
     "output_type": "stream",
     "text": [
      "Vector (rank-1 tensor)\n",
      "\n",
      "tf.Tensor([0. 0.], shape=(2,), dtype=float32)\n",
      "\n",
      "Matrix (rank-2 tensor)\n",
      "\n",
      "tf.Tensor(\n",
      "[[1. 1. 1. 1. 1.]\n",
      " [1. 1. 1. 1. 1.]\n",
      " [1. 1. 1. 1. 1.]], shape=(3, 5), dtype=float32)\n",
      "\n",
      "Rank-3 tensor\n",
      "\n",
      "tf.Tensor(\n",
      "[[[2. 2. 2. 2. 2.]\n",
      "  [2. 2. 2. 2. 2.]\n",
      "  [2. 2. 2. 2. 2.]]\n",
      "\n",
      " [[2. 2. 2. 2. 2.]\n",
      "  [2. 2. 2. 2. 2.]\n",
      "  [2. 2. 2. 2. 2.]]], shape=(2, 3, 5), dtype=float32)\n"
     ]
    }
   ],
   "source": [
    "ze2 = tf.zeros(2)\n",
    "on3x5 = tf.ones((3, 5))\n",
    "tw2x3x5 = tf.fill((2, 3, 5), value=2.)\n",
    "p('Vector (rank-1 tensor)', ze2,\n",
    "  'Matrix (rank-2 tensor)', on3x5,\n",
    "  'Rank-3 tensor', tw2x3x5)"
   ]
  },
  {
   "cell_type": "markdown",
   "metadata": {},
   "source": [
    "#### Tensors with random values"
   ]
  },
  {
   "cell_type": "code",
   "execution_count": 4,
   "metadata": {},
   "outputs": [
    {
     "name": "stdout",
     "output_type": "stream",
     "text": [
      "Matrix with random uniform values\n",
      "\n",
      "tf.Tensor(\n",
      "[[0.18165445 0.19296658 0.5878961 ]\n",
      " [0.10600185 0.7134507  0.83647573]], shape=(2, 3), dtype=float32)\n",
      "\n",
      "Matrix with random normal values\n",
      "\n",
      "tf.Tensor(\n",
      "[[ 1.1915098   1.6910524 ]\n",
      " [-0.8505281   1.6118783 ]\n",
      " [ 0.4714488  -0.04704379]\n",
      " [ 0.7273828   1.0534209 ]\n",
      " [-0.6943145  -0.2530615 ]], shape=(5, 2), dtype=float32)\n",
      "\n",
      "Matrix with truncated random normal values\n",
      "\n",
      "tf.Tensor(\n",
      "[[ 0.48320144 -0.94951314  0.18423975  0.27844903  0.05910079]\n",
      " [-0.08474454 -0.70819163  0.66125983  0.39343864 -0.2995215 ]\n",
      " [-0.44130096 -0.87078136 -1.4468027  -0.8293213  -1.8098135 ]], shape=(3, 5), dtype=float32)\n"
     ]
    }
   ],
   "source": [
    "ru2x3 = tf.random.uniform((2, 3), minval=0, maxval=1)\n",
    "rn2x3 = tf.random.normal((5, 2), mean=0, stddev=1)\n",
    "rtn2x3 = tf.random.truncated_normal((3, 5), mean=0, stddev=1)\n",
    "p('Matrix with random uniform values', ru2x3,\n",
    "  'Matrix with random normal values', rn2x3,\n",
    "  'Matrix with truncated random normal values', rtn2x3)"
   ]
  },
  {
   "cell_type": "markdown",
   "metadata": {},
   "source": [
    "#### Tensor addition and elementwise multiplication"
   ]
  },
  {
   "cell_type": "code",
   "execution_count": 5,
   "metadata": {},
   "outputs": [
    {
     "name": "stdout",
     "output_type": "stream",
     "text": [
      "Input matrices\n",
      "\n",
      "tf.Tensor(\n",
      "[[2. 2. 2.]\n",
      " [2. 2. 2.]], shape=(2, 3), dtype=float32)\n",
      "\n",
      "tf.Tensor(\n",
      "[[3. 3. 3.]\n",
      " [3. 3. 3.]], shape=(2, 3), dtype=float32)\n",
      "\n",
      "Addition\n",
      "\n",
      "tf.Tensor(\n",
      "[[5. 5. 5.]\n",
      " [5. 5. 5.]], shape=(2, 3), dtype=float32)\n",
      "\n",
      "Elementwise multiplication\n",
      "\n",
      "tf.Tensor(\n",
      "[[6. 6. 6.]\n",
      " [6. 6. 6.]], shape=(2, 3), dtype=float32)\n",
      "\n",
      "tf.Tensor(\n",
      "[[10. 10. 10.]\n",
      " [10. 10. 10.]], shape=(2, 3), dtype=float32)\n"
     ]
    }
   ],
   "source": [
    "tw2x3 = tf.fill((2, 3), value=2.)\n",
    "th2x3 = tf.fill((2, 3), value=3.)\n",
    "p('Input matrices', tw2x3, th2x3,\n",
    "  'Addition', tw2x3 + th2x3,\n",
    "  'Elementwise multiplication', tw2x3 * th2x3, 5 * tw2x3)"
   ]
  },
  {
   "cell_type": "markdown",
   "metadata": {},
   "source": [
    "#### Diagonal matrices"
   ]
  },
  {
   "cell_type": "code",
   "execution_count": 6,
   "metadata": {},
   "outputs": [
    {
     "name": "stdout",
     "output_type": "stream",
     "text": [
      "Identity matrix\n",
      "\n",
      "tf.Tensor(\n",
      "[[1. 0.]\n",
      " [0. 1.]], shape=(2, 2), dtype=float32)\n",
      "\n",
      "Diagonal matrix\n",
      "\n",
      "tf.Tensor(\n",
      "[[3. 0. 0. 0. 0.]\n",
      " [0. 3. 0. 0. 0.]\n",
      " [0. 0. 3. 0. 0.]\n",
      " [0. 0. 0. 3. 0.]\n",
      " [0. 0. 0. 0. 3.]], shape=(5, 5), dtype=float32)\n"
     ]
    }
   ],
   "source": [
    "eye2 = tf.eye(2)\n",
    "diag_th5 = tf.linalg.diag([3.]*5)\n",
    "p('Identity matrix', eye2,\n",
    "  'Diagonal matrix', diag_th5)"
   ]
  },
  {
   "cell_type": "markdown",
   "metadata": {},
   "source": [
    "#### Matrix transpose"
   ]
  },
  {
   "cell_type": "code",
   "execution_count": 7,
   "metadata": {},
   "outputs": [
    {
     "name": "stdout",
     "output_type": "stream",
     "text": [
      "Input matrix\n",
      "\n",
      "tf.Tensor(\n",
      "[[2. 2. 2.]\n",
      " [2. 2. 2.]], shape=(2, 3), dtype=float32)\n",
      "\n",
      "Transpose\n",
      "\n",
      "tf.Tensor(\n",
      "[[2. 2.]\n",
      " [2. 2.]\n",
      " [2. 2.]], shape=(3, 2), dtype=float32)\n"
     ]
    }
   ],
   "source": [
    "tw3x2 = tf.linalg.matrix_transpose(tw2x3)\n",
    "p('Input matrix', tw2x3,\n",
    "  'Transpose', tw3x2)"
   ]
  },
  {
   "cell_type": "markdown",
   "metadata": {},
   "source": [
    "#### Matrix multiplication"
   ]
  },
  {
   "cell_type": "code",
   "execution_count": 8,
   "metadata": {},
   "outputs": [
    {
     "name": "stdout",
     "output_type": "stream",
     "text": [
      "Input matrices\n",
      "\n",
      "tf.Tensor(\n",
      "[[2. 2. 2.]\n",
      " [2. 2. 2.]], shape=(2, 3), dtype=float32)\n",
      "\n",
      "tf.Tensor(\n",
      "[[1. 1. 1. 1. 1.]\n",
      " [1. 1. 1. 1. 1.]\n",
      " [1. 1. 1. 1. 1.]], shape=(3, 5), dtype=float32)\n",
      "\n",
      "Multiplication\n",
      "\n",
      "tf.Tensor(\n",
      "[[6. 6. 6. 6. 6.]\n",
      " [6. 6. 6. 6. 6.]], shape=(2, 5), dtype=float32)\n"
     ]
    }
   ],
   "source": [
    "si2x5 = tf.linalg.matmul(tw2x3, on3x5)\n",
    "p('Input matrices', tw2x3, on3x5,\n",
    "  'Multiplication', si2x5)"
   ]
  },
  {
   "cell_type": "markdown",
   "metadata": {},
   "source": [
    "#### Tensor reshaping"
   ]
  },
  {
   "cell_type": "code",
   "execution_count": 9,
   "metadata": {
    "scrolled": false
   },
   "outputs": [
    {
     "name": "stdout",
     "output_type": "stream",
     "text": [
      "Input matrix\n",
      "\n",
      "tf.Tensor(\n",
      "[[3. 3. 3.]\n",
      " [3. 3. 3.]], shape=(2, 3), dtype=float32)\n",
      "\n",
      "Reshaped matrix\n",
      "\n",
      "tf.Tensor(\n",
      "[[[3.]\n",
      "  [3.]]\n",
      "\n",
      " [[3.]\n",
      "  [3.]]\n",
      "\n",
      " [[3.]\n",
      "  [3.]]], shape=(3, 2, 1), dtype=float32)\n",
      "\n",
      "Matrix with the first dim expanded\n",
      "\n",
      "tf.Tensor(\n",
      "[[[3. 3. 3.]\n",
      "  [3. 3. 3.]]], shape=(1, 2, 3), dtype=float32)\n",
      "\n",
      "Squeezed matrix\n",
      "\n",
      "tf.Tensor(\n",
      "[[3. 3. 3.]\n",
      " [3. 3. 3.]], shape=(2, 3), dtype=float32)\n"
     ]
    }
   ],
   "source": [
    "th1x2x3 = tf.expand_dims(th2x3, axis=0)\n",
    "p('Input matrix', th2x3,\n",
    "  'Reshaped matrix', tf.reshape(th2x3, (3, 2, 1)),\n",
    "  'Matrix with the first dim expanded', th1x2x3, last=False)\n",
    "th2x3 = tf.squeeze(th1x2x3)\n",
    "p('Squeezed matrix', th2x3)"
   ]
  },
  {
   "cell_type": "markdown",
   "metadata": {},
   "source": [
    "#### Broadcasting"
   ]
  },
  {
   "cell_type": "code",
   "execution_count": 10,
   "metadata": {},
   "outputs": [
    {
     "name": "stdout",
     "output_type": "stream",
     "text": [
      "Input matrices\n",
      "\n",
      "tf.Tensor([2. 2. 2. 2. 2.], shape=(5,), dtype=float32)\n",
      "\n",
      "tf.Tensor(\n",
      "[[1. 1. 1. 1. 1.]\n",
      " [1. 1. 1. 1. 1.]\n",
      " [1. 1. 1. 1. 1.]], shape=(3, 5), dtype=float32)\n",
      "\n",
      "Addition\n",
      "\n",
      "tf.Tensor(\n",
      "[[3. 3. 3. 3. 3.]\n",
      " [3. 3. 3. 3. 3.]\n",
      " [3. 3. 3. 3. 3.]], shape=(3, 5), dtype=float32)\n"
     ]
    }
   ],
   "source": [
    "tw5 = tf.fill((5,), 2.)\n",
    "th3x5 = tw5 + on3x5\n",
    "p('Input matrices', tw5, on3x5,\n",
    "  'Addition', th3x5)"
   ]
  }
 ],
 "metadata": {
  "kernelspec": {
   "display_name": "Python 3",
   "language": "python",
   "name": "python3"
  },
  "language_info": {
   "codemirror_mode": {
    "name": "ipython",
    "version": 3
   },
   "file_extension": ".py",
   "mimetype": "text/x-python",
   "name": "python",
   "nbconvert_exporter": "python",
   "pygments_lexer": "ipython3",
   "version": "3.7.6"
  }
 },
 "nbformat": 4,
 "nbformat_minor": 4
}
